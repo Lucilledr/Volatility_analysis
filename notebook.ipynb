{
 "cells": [
  {
   "cell_type": "markdown",
   "metadata": {},
   "source": [
    "# Calculatrice "
   ]
  },
  {
   "cell_type": "code",
   "execution_count": 23,
   "metadata": {},
   "outputs": [
    {
     "name": "stdout",
     "output_type": "stream",
     "text": [
      "3/0\n",
      "le premier operateur est: 3\n"
     ]
    },
    {
     "ename": "ZeroDivisionError",
     "evalue": "division by zero",
     "output_type": "error",
     "traceback": [
      "\u001b[0;31m---------------------------------------------------------------------------\u001b[0m",
      "\u001b[0;31mZeroDivisionError\u001b[0m                         Traceback (most recent call last)",
      "Cell \u001b[0;32mIn[23], line 22\u001b[0m\n\u001b[1;32m     20\u001b[0m    \u001b[38;5;28mprint\u001b[39m(\u001b[38;5;124m\"\u001b[39m\u001b[38;5;124mErreur : Division par zéro impossible.\u001b[39m\u001b[38;5;124m\"\u001b[39m)\n\u001b[1;32m     21\u001b[0m \u001b[38;5;28;01melse\u001b[39;00m:\n\u001b[0;32m---> 22\u001b[0m    division \u001b[38;5;241m=\u001b[39m \u001b[38;5;28;43mint\u001b[39;49m\u001b[43m(\u001b[49m\u001b[43mop1\u001b[49m\u001b[43m)\u001b[49m\u001b[43m \u001b[49m\u001b[38;5;241;43m/\u001b[39;49m\u001b[43m \u001b[49m\u001b[38;5;28;43mint\u001b[39;49m\u001b[43m(\u001b[49m\u001b[43mop2\u001b[49m\u001b[43m)\u001b[49m\n\u001b[1;32m     23\u001b[0m    \u001b[38;5;28mprint\u001b[39m(\u001b[38;5;124mf\u001b[39m\u001b[38;5;124m\"\u001b[39m\u001b[38;5;124mla division de \u001b[39m\u001b[38;5;132;01m{\u001b[39;00mop1\u001b[38;5;132;01m}\u001b[39;00m\u001b[38;5;124m \u001b[39m\u001b[38;5;132;01m{\u001b[39;00moperateur\u001b[38;5;132;01m}\u001b[39;00m\u001b[38;5;124m \u001b[39m\u001b[38;5;132;01m{\u001b[39;00mop2\u001b[38;5;132;01m}\u001b[39;00m\u001b[38;5;124m est egal a \u001b[39m\u001b[38;5;132;01m{\u001b[39;00mdivision\u001b[38;5;132;01m}\u001b[39;00m\u001b[38;5;124m\"\u001b[39m)\n",
      "\u001b[0;31mZeroDivisionError\u001b[0m: division by zero"
     ]
    }
   ],
   "source": [
    "calcul = input(\"entrer l'operation\")\n",
    "\n",
    "print(calcul)\n",
    "\n",
    "op1 = calcul[0]\n",
    "operateur = calcul[1]\n",
    "op2 = calcul[2]\n",
    "print(f\"le premier operateur est: {op1}\")\n",
    "if operateur == \"+\": \n",
    "    somme = int(op1) + int(op2)\n",
    "    print(f\"la somme de {op1} {operateur} {op2} est egal a {somme}\")\n",
    "elif operateur == \"-\":\n",
    "    difference = int(op1) - int(op2)\n",
    "    print(f\"la difference de {op1} {operateur} {op2} est egal a {difference}\")\n",
    "elif operateur == \"*\":\n",
    "    produit = int(op1) * int(op2)\n",
    "    print(f\"le produit de {op1} {operateur } {op2} est egal a {produit}\")\n",
    "elif operateur == \"/\":\n",
    "     if op2 == 0: \n",
    "        print(\"Erreur : Division par zéro impossible.\")\n",
    "     else:\n",
    "        division = int(op1) / int(op2)\n",
    "        print(f\"la division de {op1} {operateur} {op2} est egal a {division}\")\n",
    "    \n",
    "\n",
    "\n",
    "\n",
    "\n"
   ]
  }
 ],
 "metadata": {
  "kernelspec": {
   "display_name": "Python 3",
   "language": "python",
   "name": "python3"
  },
  "language_info": {
   "codemirror_mode": {
    "name": "ipython",
    "version": 3
   },
   "file_extension": ".py",
   "mimetype": "text/x-python",
   "name": "python",
   "nbconvert_exporter": "python",
   "pygments_lexer": "ipython3",
   "version": "3.9.6"
  }
 },
 "nbformat": 4,
 "nbformat_minor": 2
}
