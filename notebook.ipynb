{
 "cells": [
  {
   "cell_type": "markdown",
   "metadata": {},
   "source": [
    "# Calculatrice "
   ]
  },
  {
   "cell_type": "code",
   "execution_count": 20,
   "metadata": {},
   "outputs": [
    {
     "name": "stdout",
     "output_type": "stream",
     "text": [
      "1x2\n",
      "le premier operateur est: 1\n",
      "truc\n"
     ]
    }
   ],
   "source": [
    "calcul = input(\"entrer l'operation\")\n",
    "\n",
    "print(calcul)\n",
    "\n",
    "op1 = calcul[0]\n",
    "operateur = calcul[1]\n",
    "op2 = calcul[2]\n",
    "print(f\"le premier operateur est: {op1}\")\n",
    "if operateur == \"+\": \n",
    "    somme = int(op1) + int(op2)\n",
    "    print(f\"la somme de {op1} {operateur} {op2} est egal a {somme}\")\n",
    "elif operateur == \"-\":\n",
    "    difference = int(op1) - int(op2)\n",
    "    print(f\"la difference de {op1} {operateur} {op2} est egal a {difference}\")\n",
    "else:\n",
    "    print(\"truc\")\n"
   ]
  }
 ],
 "metadata": {
  "kernelspec": {
   "display_name": "Python 3",
   "language": "python",
   "name": "python3"
  },
  "language_info": {
   "codemirror_mode": {
    "name": "ipython",
    "version": 3
   },
   "file_extension": ".py",
   "mimetype": "text/x-python",
   "name": "python",
   "nbconvert_exporter": "python",
   "pygments_lexer": "ipython3",
   "version": "3.9.6"
  }
 },
 "nbformat": 4,
 "nbformat_minor": 2
}
